{
 "cells": [
  {
   "cell_type": "code",
   "execution_count": 1,
   "id": "e02b236b",
   "metadata": {},
   "outputs": [],
   "source": [
    "import pandas as pd"
   ]
  },
  {
   "cell_type": "code",
   "execution_count": 2,
   "id": "a921d3bd",
   "metadata": {},
   "outputs": [
    {
     "name": "stdout",
     "output_type": "stream",
     "text": [
      " C 드라이브의 볼륨: Windows\n",
      " 볼륨 일련 번호: D207-B652\n",
      "\n",
      " C:\\Develops\\test_machinelearning\\files 디렉터리\n",
      "\n",
      "2021-06-30  오후 04:12       200,589,097 train.csv\n",
      "               1개 파일         200,589,097 바이트\n",
      "               0개 디렉터리  72,930,938,880 바이트 남음\n"
     ]
    }
   ],
   "source": [
    "!dir .\\files\\train.csv"
   ]
  },
  {
   "cell_type": "code",
   "execution_count": 3,
   "id": "fba5c659",
   "metadata": {},
   "outputs": [
    {
     "name": "stdout",
     "output_type": "stream",
     "text": [
      "<class 'pandas.core.frame.DataFrame'>\n",
      "RangeIndex: 1458644 entries, 0 to 1458643\n",
      "Data columns (total 11 columns):\n",
      " #   Column              Non-Null Count    Dtype  \n",
      "---  ------              --------------    -----  \n",
      " 0   id                  1458644 non-null  object \n",
      " 1   vendor_id           1458644 non-null  int64  \n",
      " 2   pickup_datetime     1458644 non-null  object \n",
      " 3   dropoff_datetime    1458644 non-null  object \n",
      " 4   passenger_count     1458644 non-null  int64  \n",
      " 5   pickup_longitude    1458644 non-null  float64\n",
      " 6   pickup_latitude     1458644 non-null  float64\n",
      " 7   dropoff_longitude   1458644 non-null  float64\n",
      " 8   dropoff_latitude    1458644 non-null  float64\n",
      " 9   store_and_fwd_flag  1458644 non-null  object \n",
      " 10  trip_duration       1458644 non-null  int64  \n",
      "dtypes: float64(4), int64(3), object(4)\n",
      "memory usage: 122.4+ MB\n"
     ]
    }
   ],
   "source": [
    "pd_data = pd.read_csv('./files/train.csv')\n",
    "pd_data.info()"
   ]
  },
  {
   "cell_type": "code",
   "execution_count": 4,
   "id": "b32347d0",
   "metadata": {},
   "outputs": [
    {
     "data": {
      "text/plain": [
       "(1458644, 11)"
      ]
     },
     "execution_count": 4,
     "metadata": {},
     "output_type": "execute_result"
    }
   ],
   "source": [
    "pd_data.shape"
   ]
  },
  {
   "cell_type": "code",
   "execution_count": 5,
   "id": "dd3114e6",
   "metadata": {},
   "outputs": [],
   "source": [
    "pd_data.columns = ['id','vendor_id','pickup_datetime','dropoff_datetime','passenger_count','pickup_longitude',\n",
    "                   'pickup_latitude','dropoff_longitude','dropoff_latitude','store_and_fwd_flag','trip_duration']"
   ]
  },
  {
   "cell_type": "code",
   "execution_count": 8,
   "id": "54e7e855",
   "metadata": {},
   "outputs": [],
   "source": [
    "import numpy as np"
   ]
  },
  {
   "cell_type": "code",
   "execution_count": 9,
   "id": "8d1790dc",
   "metadata": {},
   "outputs": [],
   "source": [
    "# 컬럼 가공\n",
    "pd_data['dif_longitude'] = np.abs(pd_data['pickup_longitude'] - pd_data['dropoff_longitude'])"
   ]
  },
  {
   "cell_type": "code",
   "execution_count": 10,
   "id": "05f7562e",
   "metadata": {},
   "outputs": [],
   "source": [
    "pd_data['dif_latitude'] = np.abs(pd_data['pickup_latitude'] - pd_data['dropoff_latitude'])"
   ]
  },
  {
   "cell_type": "code",
   "execution_count": 23,
   "id": "0f727f01",
   "metadata": {},
   "outputs": [],
   "source": [
    "pd_data['dist'] = np.abs(pd_data['dif_longitude'] + pd_data['dif_latitude'])"
   ]
  },
  {
   "cell_type": "code",
   "execution_count": 12,
   "id": "901c4207",
   "metadata": {},
   "outputs": [],
   "source": [
    "#컬럼 선택\n",
    "x= pd_data[['dif_longitude','dif_latitude','dist']]"
   ]
  },
  {
   "cell_type": "code",
   "execution_count": 35,
   "id": "b376cd11",
   "metadata": {
    "collapsed": true
   },
   "outputs": [
    {
     "ename": "ValueError",
     "evalue": "This sheet is too large! Your sheet size is: 1458644, 4 Max sheet size is: 1048576, 16384",
     "output_type": "error",
     "traceback": [
      "\u001b[1;31m---------------------------------------------------------------------------\u001b[0m",
      "\u001b[1;31mValueError\u001b[0m                                Traceback (most recent call last)",
      "\u001b[1;32m<ipython-input-35-3260f7f95cd3>\u001b[0m in \u001b[0;36m<module>\u001b[1;34m\u001b[0m\n\u001b[0;32m      1\u001b[0m \u001b[0mdata\u001b[0m \u001b[1;33m=\u001b[0m \u001b[0mpd_data\u001b[0m\u001b[1;33m[\u001b[0m\u001b[1;33m[\u001b[0m\u001b[1;34m'dif_longitude'\u001b[0m\u001b[1;33m,\u001b[0m\u001b[1;34m'dif_latitude'\u001b[0m\u001b[1;33m,\u001b[0m\u001b[1;34m'dist'\u001b[0m\u001b[1;33m,\u001b[0m\u001b[1;34m'trip_duration'\u001b[0m\u001b[1;33m]\u001b[0m\u001b[1;33m]\u001b[0m\u001b[1;33m\u001b[0m\u001b[0m\n\u001b[1;32m----> 2\u001b[1;33m \u001b[0mdata\u001b[0m\u001b[1;33m.\u001b[0m\u001b[0mto_excel\u001b[0m\u001b[1;33m(\u001b[0m\u001b[1;34m'/saves/newyork_taxi.xls'\u001b[0m\u001b[1;33m)\u001b[0m\u001b[1;33m\u001b[0m\u001b[0m\n\u001b[0m",
      "\u001b[1;32m~\\AppData\\Roaming\\Python\\Python36\\site-packages\\pandas\\core\\generic.py\u001b[0m in \u001b[0;36mto_excel\u001b[1;34m(self, excel_writer, sheet_name, na_rep, float_format, columns, header, index, index_label, startrow, startcol, engine, merge_cells, encoding, inf_rep, verbose, freeze_panes)\u001b[0m\n\u001b[0;32m   2030\u001b[0m             \u001b[0mstartcol\u001b[0m\u001b[1;33m=\u001b[0m\u001b[0mstartcol\u001b[0m\u001b[1;33m,\u001b[0m\u001b[1;33m\u001b[0m\u001b[0m\n\u001b[0;32m   2031\u001b[0m             \u001b[0mfreeze_panes\u001b[0m\u001b[1;33m=\u001b[0m\u001b[0mfreeze_panes\u001b[0m\u001b[1;33m,\u001b[0m\u001b[1;33m\u001b[0m\u001b[0m\n\u001b[1;32m-> 2032\u001b[1;33m             \u001b[0mengine\u001b[0m\u001b[1;33m=\u001b[0m\u001b[0mengine\u001b[0m\u001b[1;33m,\u001b[0m\u001b[1;33m\u001b[0m\u001b[0m\n\u001b[0m\u001b[0;32m   2033\u001b[0m         )\n\u001b[0;32m   2034\u001b[0m \u001b[1;33m\u001b[0m\u001b[0m\n",
      "\u001b[1;32m~\\AppData\\Roaming\\Python\\Python36\\site-packages\\pandas\\io\\formats\\excel.py\u001b[0m in \u001b[0;36mwrite\u001b[1;34m(self, writer, sheet_name, startrow, startcol, freeze_panes, engine)\u001b[0m\n\u001b[0;32m    721\u001b[0m         \u001b[1;32mif\u001b[0m \u001b[0mnum_rows\u001b[0m \u001b[1;33m>\u001b[0m \u001b[0mself\u001b[0m\u001b[1;33m.\u001b[0m\u001b[0mmax_rows\u001b[0m \u001b[1;32mor\u001b[0m \u001b[0mnum_cols\u001b[0m \u001b[1;33m>\u001b[0m \u001b[0mself\u001b[0m\u001b[1;33m.\u001b[0m\u001b[0mmax_cols\u001b[0m\u001b[1;33m:\u001b[0m\u001b[1;33m\u001b[0m\u001b[0m\n\u001b[0;32m    722\u001b[0m             raise ValueError(\n\u001b[1;32m--> 723\u001b[1;33m                 \u001b[1;34mf\"This sheet is too large! Your sheet size is: {num_rows}, {num_cols} \"\u001b[0m\u001b[1;33m\u001b[0m\u001b[0m\n\u001b[0m\u001b[0;32m    724\u001b[0m                 \u001b[1;34mf\"Max sheet size is: {self.max_rows}, {self.max_cols}\"\u001b[0m\u001b[1;33m\u001b[0m\u001b[0m\n\u001b[0;32m    725\u001b[0m             )\n",
      "\u001b[1;31mValueError\u001b[0m: This sheet is too large! Your sheet size is: 1458644, 4 Max sheet size is: 1048576, 16384"
     ]
    }
   ],
   "source": [
    "# data = pd_data[['dif_longitude','dif_latitude','dist','trip_duration']]"
   ]
  },
  {
   "cell_type": "code",
   "execution_count": 13,
   "id": "4353cf22",
   "metadata": {},
   "outputs": [],
   "source": [
    "y= pd_data[['trip_duration']]"
   ]
  },
  {
   "cell_type": "code",
   "execution_count": 14,
   "id": "2738f017",
   "metadata": {},
   "outputs": [
    {
     "data": {
      "text/plain": [
       "((1458644, 3), (1458644, 1))"
      ]
     },
     "execution_count": 14,
     "metadata": {},
     "output_type": "execute_result"
    }
   ],
   "source": [
    "x.shape, y.shape"
   ]
  },
  {
   "cell_type": "code",
   "execution_count": 15,
   "id": "e5fcc6f4",
   "metadata": {},
   "outputs": [],
   "source": [
    "from sklearn.model_selection import train_test_split"
   ]
  },
  {
   "cell_type": "code",
   "execution_count": 17,
   "id": "9a2a7884",
   "metadata": {},
   "outputs": [
    {
     "data": {
      "text/plain": [
       "((1093983, 3), (364661, 3), (1093983, 1), (364661, 1))"
      ]
     },
     "execution_count": 17,
     "metadata": {},
     "output_type": "execute_result"
    }
   ],
   "source": [
    "# 데이터 split\n",
    "x_train, x_test, y_train, y_test = train_test_split(x,y)\n",
    "x_train.shape, x_test.shape, y_train.shape , y_test.shape"
   ]
  },
  {
   "cell_type": "code",
   "execution_count": 18,
   "id": "05c5bd12",
   "metadata": {},
   "outputs": [],
   "source": [
    "from sklearn.linear_model import LinearRegression"
   ]
  },
  {
   "cell_type": "code",
   "execution_count": 19,
   "id": "5f5bb1b2",
   "metadata": {},
   "outputs": [],
   "source": [
    "lr = LinearRegression()"
   ]
  },
  {
   "cell_type": "code",
   "execution_count": 20,
   "id": "d000da7e",
   "metadata": {},
   "outputs": [
    {
     "data": {
      "text/plain": [
       "LinearRegression()"
      ]
     },
     "execution_count": 20,
     "metadata": {},
     "output_type": "execute_result"
    }
   ],
   "source": [
    "# 교육\n",
    "lr.fit(x,y)"
   ]
  },
  {
   "cell_type": "code",
   "execution_count": 21,
   "id": "73dda312",
   "metadata": {},
   "outputs": [
    {
     "data": {
      "text/plain": [
       "(array([[ 1.17445246e+14,  1.17445246e+14, -1.17445246e+14]]),\n",
       " array([582.00252942]))"
      ]
     },
     "execution_count": 21,
     "metadata": {},
     "output_type": "execute_result"
    }
   ],
   "source": [
    "lr.coef_, lr.intercept_"
   ]
  },
  {
   "cell_type": "code",
   "execution_count": 24,
   "id": "3377d95f",
   "metadata": {},
   "outputs": [
    {
     "data": {
      "text/plain": [
       "0.008983277593497041"
      ]
     },
     "execution_count": 24,
     "metadata": {},
     "output_type": "execute_result"
    }
   ],
   "source": [
    "#모델 점수\n",
    "lr.score(x,y)"
   ]
  },
  {
   "cell_type": "code",
   "execution_count": 25,
   "id": "62eaaebd",
   "metadata": {},
   "outputs": [
    {
     "data": {
      "text/plain": [
       "0.0072444139868810264"
      ]
     },
     "execution_count": 25,
     "metadata": {},
     "output_type": "execute_result"
    }
   ],
   "source": [
    "# check with a part train data\n",
    "lr.score(x_train,y_train)"
   ]
  },
  {
   "cell_type": "code",
   "execution_count": 26,
   "id": "e8789217",
   "metadata": {},
   "outputs": [
    {
     "data": {
      "text/plain": [
       "0.02678581075854969"
      ]
     },
     "execution_count": 26,
     "metadata": {},
     "output_type": "execute_result"
    }
   ],
   "source": [
    "# check with a part of test data\n",
    "lr.score(x_test,y_test)"
   ]
  },
  {
   "cell_type": "code",
   "execution_count": 28,
   "id": "29da7f67",
   "metadata": {},
   "outputs": [
    {
     "data": {
      "text/plain": [
       "sklearn.linear_model._base.LinearRegression"
      ]
     },
     "execution_count": 28,
     "metadata": {},
     "output_type": "execute_result"
    }
   ],
   "source": [
    "type(lr)"
   ]
  },
  {
   "cell_type": "code",
   "execution_count": 29,
   "id": "5287a8ef",
   "metadata": {},
   "outputs": [],
   "source": [
    "import pickle"
   ]
  },
  {
   "cell_type": "code",
   "execution_count": 30,
   "id": "857cb095",
   "metadata": {},
   "outputs": [],
   "source": [
    "pickle.dump(lr, open('./saves/newyork_taxi.pkl','wb'))"
   ]
  },
  {
   "cell_type": "code",
   "execution_count": 32,
   "id": "d03b4555",
   "metadata": {},
   "outputs": [
    {
     "data": {
      "text/plain": [
       "((1093983, 1), (1093983, 1))"
      ]
     },
     "execution_count": 32,
     "metadata": {},
     "output_type": "execute_result"
    }
   ],
   "source": [
    "y_predict = lr.predict(x_train)\n",
    "y_predict.shape, y_train.shape"
   ]
  },
  {
   "cell_type": "code",
   "execution_count": 33,
   "id": "976bae0a",
   "metadata": {
    "collapsed": true
   },
   "outputs": [
    {
     "data": {
      "text/html": [
       "<div>\n",
       "<style scoped>\n",
       "    .dataframe tbody tr th:only-of-type {\n",
       "        vertical-align: middle;\n",
       "    }\n",
       "\n",
       "    .dataframe tbody tr th {\n",
       "        vertical-align: top;\n",
       "    }\n",
       "\n",
       "    .dataframe thead th {\n",
       "        text-align: right;\n",
       "    }\n",
       "</style>\n",
       "<table border=\"1\" class=\"dataframe\">\n",
       "  <thead>\n",
       "    <tr style=\"text-align: right;\">\n",
       "      <th></th>\n",
       "      <th>trip_duration</th>\n",
       "    </tr>\n",
       "  </thead>\n",
       "  <tbody>\n",
       "    <tr>\n",
       "      <th>717143</th>\n",
       "      <td>-1112.094150</td>\n",
       "    </tr>\n",
       "    <tr>\n",
       "      <th>54665</th>\n",
       "      <td>333.225430</td>\n",
       "    </tr>\n",
       "    <tr>\n",
       "      <th>1141455</th>\n",
       "      <td>62.266201</td>\n",
       "    </tr>\n",
       "    <tr>\n",
       "      <th>812107</th>\n",
       "      <td>565.225857</td>\n",
       "    </tr>\n",
       "    <tr>\n",
       "      <th>682140</th>\n",
       "      <td>362.760586</td>\n",
       "    </tr>\n",
       "    <tr>\n",
       "      <th>...</th>\n",
       "      <td>...</td>\n",
       "    </tr>\n",
       "    <tr>\n",
       "      <th>234758</th>\n",
       "      <td>308.572354</td>\n",
       "    </tr>\n",
       "    <tr>\n",
       "      <th>399961</th>\n",
       "      <td>-517.292392</td>\n",
       "    </tr>\n",
       "    <tr>\n",
       "      <th>251372</th>\n",
       "      <td>309.424616</td>\n",
       "    </tr>\n",
       "    <tr>\n",
       "      <th>212289</th>\n",
       "      <td>474.079739</td>\n",
       "    </tr>\n",
       "    <tr>\n",
       "      <th>620199</th>\n",
       "      <td>161.849623</td>\n",
       "    </tr>\n",
       "  </tbody>\n",
       "</table>\n",
       "<p>1093983 rows × 1 columns</p>\n",
       "</div>"
      ],
      "text/plain": [
       "         trip_duration\n",
       "717143    -1112.094150\n",
       "54665       333.225430\n",
       "1141455      62.266201\n",
       "812107      565.225857\n",
       "682140      362.760586\n",
       "...                ...\n",
       "234758      308.572354\n",
       "399961     -517.292392\n",
       "251372      309.424616\n",
       "212289      474.079739\n",
       "620199      161.849623\n",
       "\n",
       "[1093983 rows x 1 columns]"
      ]
     },
     "execution_count": 33,
     "metadata": {},
     "output_type": "execute_result"
    }
   ],
   "source": [
    "y_result = y_predict - y_train\n",
    "y_result"
   ]
  },
  {
   "cell_type": "code",
   "execution_count": 34,
   "id": "e06e209b",
   "metadata": {},
   "outputs": [
    {
     "data": {
      "text/plain": [
       "0.0072444139868810264"
      ]
     },
     "execution_count": 34,
     "metadata": {},
     "output_type": "execute_result"
    }
   ],
   "source": [
    "lr.score(x_train,y_train)"
   ]
  }
 ],
 "metadata": {
  "kernelspec": {
   "display_name": "Python 3",
   "language": "python",
   "name": "python3"
  },
  "language_info": {
   "codemirror_mode": {
    "name": "ipython",
    "version": 3
   },
   "file_extension": ".py",
   "mimetype": "text/x-python",
   "name": "python",
   "nbconvert_exporter": "python",
   "pygments_lexer": "ipython3",
   "version": "3.6.4"
  }
 },
 "nbformat": 4,
 "nbformat_minor": 5
}
