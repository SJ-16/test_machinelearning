{
 "cells": [
  {
   "cell_type": "code",
   "execution_count": 1,
   "id": "57e0450b",
   "metadata": {},
   "outputs": [],
   "source": [
    "import pickle"
   ]
  },
  {
   "cell_type": "code",
   "execution_count": 2,
   "id": "1014b14e",
   "metadata": {},
   "outputs": [],
   "source": [
    "favorite = {'lion':'yellow', 'tiger':'red'}"
   ]
  },
  {
   "cell_type": "code",
   "execution_count": 4,
   "id": "17c8f8b6",
   "metadata": {},
   "outputs": [],
   "source": [
    "# as machine learning, favoirte --> model variable\n",
    "# 확장자 선택 가능하지만 통상적으로 pkl로 저장함 .wb는 권한\n",
    "pickle.dump(favorite, open('./saves/favorite_save.pkl','wb'))"
   ]
  },
  {
   "cell_type": "code",
   "execution_count": 5,
   "id": "f02c1e0a",
   "metadata": {},
   "outputs": [
    {
     "name": "stdout",
     "output_type": "stream",
     "text": [
      " C 드라이브의 볼륨: Windows\n",
      " 볼륨 일련 번호: D207-B652\n",
      "\n",
      " C:\\Develops\\test_machinelearning 디렉터리\n",
      "\n",
      "2021-06-30  오후 02:26    <DIR>          .\n",
      "2021-06-30  오후 02:26    <DIR>          ..\n",
      "2021-06-29  오후 03:37             1,928 .gitignore\n",
      "2021-06-29  오후 05:54    <DIR>          .idea\n",
      "2021-06-30  오후 02:19    <DIR>          .ipynb_checkpoints\n",
      "2021-06-30  오후 02:26             9,554 autompg_colN_regression.ipynb\n",
      "2021-06-30  오후 02:11            11,172 autompg_regression.ipynb\n",
      "2021-06-29  오후 04:04    <DIR>          files\n",
      "2021-06-29  오후 03:37            11,558 LICENSE\n",
      "2021-06-30  오후 02:18             1,182 make_pickle.ipynb\n",
      "2021-06-29  오후 03:37                22 README.md\n",
      "2021-06-30  오후 02:16    <DIR>          saves\n",
      "2021-06-30  오후 02:25             1,163 Untitled.ipynb\n",
      "               7개 파일              36,579 바이트\n",
      "               6개 디렉터리  75,843,842,048 바이트 남음\n"
     ]
    }
   ],
   "source": [
    "!dir"
   ]
  },
  {
   "cell_type": "code",
   "execution_count": null,
   "id": "b4658fed",
   "metadata": {},
   "outputs": [],
   "source": []
  }
 ],
 "metadata": {
  "kernelspec": {
   "display_name": "Python 3",
   "language": "python",
   "name": "python3"
  },
  "language_info": {
   "codemirror_mode": {
    "name": "ipython",
    "version": 3
   },
   "file_extension": ".py",
   "mimetype": "text/x-python",
   "name": "python",
   "nbconvert_exporter": "python",
   "pygments_lexer": "ipython3",
   "version": "3.6.4"
  }
 },
 "nbformat": 4,
 "nbformat_minor": 5
}
